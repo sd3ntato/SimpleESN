{
  "cells": [
    {
      "cell_type": "code",
      "execution_count": null,
      "metadata": {
        "id": "L1F5Ht8N6zzN"
      },
      "outputs": [],
      "source": [
        "import sys\n",
        "sys.path.append(\"../\")\n",
        "\n",
        "%matplotlib inline\n",
        "import matplotlib\n",
        "import matplotlib.pyplot as plt\n",
        "import numpy as np\n",
        "from Simple_ESN import *"
      ]
    },
    {
      "cell_type": "code",
      "execution_count": null,
      "metadata": {
        "id": "jg3vs6c59qJT"
      },
      "outputs": [],
      "source": [
        "train_data = 0.5*(2*np.random.rand(5000)-1)\n",
        "test_data = 0.5*(2*np.random.rand(2000)-1)"
      ]
    },
    {
      "cell_type": "markdown",
      "metadata": {},
      "source": [
        "# allenamento simultaneo matrice input e ricorrente. "
      ]
    },
    {
      "cell_type": "markdown",
      "metadata": {},
      "source": [
        "## figura 4.6 "
      ]
    },
    {
      "cell_type": "code",
      "execution_count": null,
      "metadata": {
        "colab": {
          "base_uri": "https://localhost:8080/",
          "height": 813
        },
        "id": "1nC6PgdP8g9-",
        "outputId": "8feada9b-c54f-4b31-b98a-43534dfc91c6"
      },
      "outputs": [],
      "source": [
        "eval_shallow_one(train_data, test_data, max_epochs = 200 , step=[1e-05,-1e-05] , train_fun=train_both , r_density=0.8 , i_density=1 , Nr=100, mesure_interval=1, rho=0.9)"
      ]
    },
    {
      "cell_type": "markdown",
      "metadata": {},
      "source": [
        "## figurra 4.7. allenamento partendo da raggio spettrale 0.9"
      ]
    },
    {
      "cell_type": "code",
      "execution_count": null,
      "metadata": {
        "colab": {
          "base_uri": "https://localhost:8080/",
          "height": 813
        },
        "id": "x30szGCTNWv_",
        "outputId": "8398a40e-768d-4dfb-fb2c-1e040091faaa"
      },
      "outputs": [],
      "source": [
        "eval_shallow_one(train_data, test_data, max_epochs = 80 , step=[1e-05,-1e-05] , train_fun=train_both , r_density=0.8 , i_density=1 , Nr=100, mesure_interval=1, rho=0.9)"
      ]
    },
    {
      "cell_type": "markdown",
      "metadata": {},
      "source": [
        "## altri esperimenti con allenamento simultaneo non riportati in tesi. allenamento viene eseguito partendo da raggi spettrali piú bassi."
      ]
    },
    {
      "cell_type": "code",
      "execution_count": null,
      "metadata": {
        "colab": {
          "base_uri": "https://localhost:8080/",
          "height": 813
        },
        "id": "yubsW5wH2E6d",
        "outputId": "c0febcc1-a72b-4d19-cd1f-1348e6f3a947"
      },
      "outputs": [],
      "source": [
        "# qui cambio densitá matrice input\n",
        "eval_shallow_one(train_data, test_data, max_epochs = 200 , step=[1e-05,-1e-05] , train_fun=train_both , r_density=0.2 , i_density=0.1 , Nr=100, mesure_interval=1, rho=0.9)"
      ]
    },
    {
      "cell_type": "code",
      "execution_count": null,
      "metadata": {
        "colab": {
          "base_uri": "https://localhost:8080/",
          "height": 813
        },
        "id": "AdHqFXlglcga",
        "outputId": "1ab1209e-7d92-4fc1-a05d-f414feb653e0"
      },
      "outputs": [],
      "source": [
        "eval_shallow_one(train_data, test_data, max_epochs = 400 , step=[1e-05,-1e-05] , train_fun=train_both , r_density=0.8 , i_density=1 , Nr=100, mesure_interval=1, rho=0.1)"
      ]
    },
    {
      "cell_type": "code",
      "execution_count": null,
      "metadata": {
        "colab": {
          "base_uri": "https://localhost:8080/",
          "height": 813
        },
        "id": "kUBtF7wnNWqB",
        "outputId": "cd41217f-3a03-4498-80c4-616a801be570"
      },
      "outputs": [],
      "source": [
        "eval_shallow_one(train_data, test_data, max_epochs = 300 , step=[1e-05,-1e-05] , train_fun=train_both , r_density=0.8 , i_density=1 , Nr=100, mesure_interval=1, rho=0.1)"
      ]
    },
    {
      "cell_type": "code",
      "execution_count": null,
      "metadata": {
        "colab": {
          "base_uri": "https://localhost:8080/",
          "height": 813
        },
        "id": "13_bBuFPbUH5",
        "outputId": "95bdebe2-8a3f-4f07-a399-27b1dabd1455"
      },
      "outputs": [],
      "source": [
        "eval_shallow_one(train_data, test_data, max_epochs = 300 , step=[1e-05,-1e-05] , train_fun=train_both , r_density=0.8 , i_density=1 , Nr=100, mesure_interval=1, rho=0.1)"
      ]
    },
    {
      "cell_type": "markdown",
      "metadata": {},
      "source": [
        "# allenamento matrice input con regola oja grafico 4.1 pagina 36"
      ]
    },
    {
      "cell_type": "code",
      "execution_count": null,
      "metadata": {
        "colab": {
          "base_uri": "https://localhost:8080/",
          "height": 813
        },
        "id": "wPwLGpwRolQz",
        "outputId": "1232fb2e-1a09-4e12-ab6d-a9b6c7de1197"
      },
      "outputs": [],
      "source": [
        "eval_shallow_one(train_data, test_data, max_epochs = 200 , step=1e-05 , train_fun=train_input , r_density=0.2 , i_density=0.1 , Nr=100, mesure_interval=1)"
      ]
    },
    {
      "cell_type": "markdown",
      "metadata": {},
      "source": [
        "# allenamento matrice input con regola anti-oja. grafico 4.2 pagina 36"
      ]
    },
    {
      "cell_type": "code",
      "execution_count": null,
      "metadata": {
        "colab": {
          "base_uri": "https://localhost:8080/",
          "height": 813
        },
        "id": "JkfEvNejd2lP",
        "outputId": "e13413f1-45ec-4dca-fed4-4f1220c12beb"
      },
      "outputs": [],
      "source": [
        "eval_shallow_one(train_data, test_data, max_epochs = 3500 , step=-1e-05 , train_fun=train_input , r_density=0.2 , i_density=0.1 , Nr=100, mesure_interval=10)"
      ]
    },
    {
      "cell_type": "markdown",
      "metadata": {},
      "source": [
        "# allenamento matrice ricorrente con regola oja. grafico 4.3 pagina 37"
      ]
    },
    {
      "cell_type": "code",
      "execution_count": null,
      "metadata": {
        "colab": {
          "base_uri": "https://localhost:8080/",
          "height": 813
        },
        "id": "1BWd35bRp_8p",
        "outputId": "46c20cac-a710-4ca0-cfd6-9a98c777ad09"
      },
      "outputs": [],
      "source": [
        "eval_shallow_one(train_data, test_data, max_epochs = 200 , step=1e-05 , train_fun=train_rec , r_density=0.1 , i_density=0.8 , Nr=100, mesure_interval=10)"
      ]
    },
    {
      "cell_type": "markdown",
      "metadata": {},
      "source": [
        "# allenamento matrice ricorrente con regola anti-oja"
      ]
    },
    {
      "cell_type": "markdown",
      "metadata": {},
      "source": [
        "## grafico 4.4 pagina 38"
      ]
    },
    {
      "cell_type": "code",
      "execution_count": null,
      "metadata": {
        "colab": {
          "base_uri": "https://localhost:8080/",
          "height": 813
        },
        "id": "yip94MXXeLTK",
        "outputId": "126a09a8-c263-4c38-c072-c9c278aef8ab"
      },
      "outputs": [],
      "source": [
        "eval_shallow_one(train_data, test_data, max_epochs = 3000 , step=-1e-05 , train_fun=train_rec , r_density=0.1 , i_density=0.8 , Nr=100, mesure_interval=10)"
      ]
    },
    {
      "cell_type": "markdown",
      "metadata": {},
      "source": [
        "## varie prove regola anti-oja su matrice ricorrente con densitá matrice input 0.8"
      ]
    },
    {
      "cell_type": "code",
      "execution_count": null,
      "metadata": {
        "colab": {
          "base_uri": "https://localhost:8080/",
          "height": 813
        },
        "id": "56k7YmTe3ep-",
        "outputId": "67448c0d-4f29-4531-d2db-5849090d7b22"
      },
      "outputs": [],
      "source": [
        "eval_shallow_one(train_data, test_data, max_epochs = 3000 , step=-1e-05 , train_fun=train_rec , r_density=0.1 , i_density=0.8 , Nr=100, mesure_interval=10)"
      ]
    },
    {
      "cell_type": "code",
      "execution_count": null,
      "metadata": {
        "colab": {
          "base_uri": "https://localhost:8080/",
          "height": 813
        },
        "id": "zLhYCAxf3edy",
        "outputId": "ee05d7d0-ca84-4af5-cad5-197bed81cb00"
      },
      "outputs": [],
      "source": [
        "eval_shallow_one(train_data, test_data, max_epochs = 3000 , step=-1e-05 , train_fun=train_rec , r_density=0.1 , i_density=0.8 , Nr=100, mesure_interval=10)"
      ]
    },
    {
      "cell_type": "code",
      "execution_count": null,
      "metadata": {
        "colab": {
          "base_uri": "https://localhost:8080/",
          "height": 813
        },
        "id": "S0XoYE133dor",
        "outputId": "b615e986-6d4b-4d01-d8c6-fc7cda661048"
      },
      "outputs": [],
      "source": [
        "eval_shallow_one(train_data, test_data, max_epochs = 3000 , step=-1e-05 , train_fun=train_rec , r_density=0.1 , i_density=0.8 , Nr=100, mesure_interval=10)"
      ]
    },
    {
      "cell_type": "markdown",
      "metadata": {},
      "source": [
        "## allenamento matrice ricorrente con regola anti-oja densitá input 1, grafico 4.5 (d)"
      ]
    },
    {
      "cell_type": "code",
      "execution_count": null,
      "metadata": {
        "colab": {
          "base_uri": "https://localhost:8080/",
          "height": 813
        },
        "id": "GVHWdcCx3xtf",
        "outputId": "f42e4a9a-5f50-433f-e023-ad47e4d25a33"
      },
      "outputs": [],
      "source": [
        "eval_shallow_one(train_data, test_data, max_epochs = 2000 , step=-1e-05 , train_fun=train_rec , r_density=0.1 , i_density=1 , Nr=100, mesure_interval=10)"
      ]
    },
    {
      "cell_type": "markdown",
      "metadata": {},
      "source": [
        "## allenamento matrice ricorrente con regola anti-oja densitá input 0.8, grafico 4.5 (c)"
      ]
    },
    {
      "cell_type": "code",
      "execution_count": null,
      "metadata": {
        "colab": {
          "base_uri": "https://localhost:8080/",
          "height": 813
        },
        "id": "-0TkxdndOmS8",
        "outputId": "ec38fc14-ead7-46b8-cb1c-0a74ecee53c7"
      },
      "outputs": [],
      "source": [
        "eval_shallow_one(train_data, test_data, max_epochs = 2000 , step=-1e-05 , train_fun=train_rec , r_density=0.1 , i_density=0.8 , Nr=100, mesure_interval=10)"
      ]
    },
    {
      "cell_type": "markdown",
      "metadata": {},
      "source": [
        "## allenamento matrice ricorrente con regola anti-oja densitá input 0.5, grafico 4.5 (b)"
      ]
    },
    {
      "cell_type": "code",
      "execution_count": null,
      "metadata": {
        "colab": {
          "base_uri": "https://localhost:8080/",
          "height": 813
        },
        "id": "uPsBql6p3xgy",
        "outputId": "a0da1ff5-450b-40c5-f20c-0b8bd9e7bbf6"
      },
      "outputs": [],
      "source": [
        "eval_shallow_one(train_data, test_data, max_epochs = 2000 , step=-1e-05 , train_fun=train_rec , r_density=0.1 , i_density=0.5 , Nr=100, mesure_interval=10)"
      ]
    },
    {
      "cell_type": "markdown",
      "metadata": {},
      "source": [
        "## allenamento matrice ricorrente con regola anti-oja densitá input 0.2, grafico 4.5 (a)"
      ]
    },
    {
      "cell_type": "code",
      "execution_count": null,
      "metadata": {
        "colab": {
          "base_uri": "https://localhost:8080/",
          "height": 813
        },
        "id": "sfI4XI_r3xXF",
        "outputId": "bcd05656-21bd-44c5-d9b4-86b1348617ca"
      },
      "outputs": [],
      "source": [
        "eval_shallow_one(train_data, test_data, max_epochs = 2000 , step=-1e-05 , train_fun=train_rec , r_density=0.1 , i_density=0.2 , Nr=100, mesure_interval=10)"
      ]
    },
    {
      "cell_type": "markdown",
      "metadata": {},
      "source": [
        "# altri esperimenti non riportati nella tesi"
      ]
    },
    {
      "cell_type": "code",
      "execution_count": null,
      "metadata": {
        "colab": {
          "base_uri": "https://localhost:8080/",
          "height": 813
        },
        "id": "71Can24VPZxx",
        "outputId": "d7e1b51b-d1d3-4891-c4c6-9217fe066be7"
      },
      "outputs": [],
      "source": [
        "eval_shallow_one(train_data, test_data, max_epochs = 3000 , step=-1e-05 , train_fun=train_rec , r_density=0.1 , i_density=0.8 , Nr=100, mesure_interval=10, rho=0.1)"
      ]
    },
    {
      "cell_type": "code",
      "execution_count": null,
      "metadata": {
        "colab": {
          "base_uri": "https://localhost:8080/",
          "height": 813
        },
        "id": "nXMA-ZUhheaC",
        "outputId": "56ea3ed8-fad2-4585-8839-d9876eda993a"
      },
      "outputs": [],
      "source": [
        "eval_shallow_one(train_data, test_data, max_epochs = 1500 , step=-1e-05 , train_fun=train_rec , r_density=0.2 , i_density=0.8 , Nr=100, mesure_interval=10, rho=0.1)"
      ]
    },
    {
      "cell_type": "code",
      "execution_count": null,
      "metadata": {
        "colab": {
          "base_uri": "https://localhost:8080/",
          "height": 813
        },
        "id": "1VH8ZaOQ3cwn",
        "outputId": "7f766332-7a08-4138-a225-007181fa58c8"
      },
      "outputs": [],
      "source": [
        "eval_shallow_one(train_data, test_data, max_epochs = 1500 , step=-1e-05 , train_fun=train_rec , r_density=0.5 , i_density=0.8 , Nr=100, mesure_interval=10, rho=0.1)"
      ]
    },
    {
      "cell_type": "code",
      "execution_count": null,
      "metadata": {
        "colab": {
          "base_uri": "https://localhost:8080/",
          "height": 813
        },
        "id": "7ehY2YsP3dZ4",
        "outputId": "ae1f06b0-d6de-44ef-a9d9-bb5bd67fdf60"
      },
      "outputs": [],
      "source": [
        "eval_shallow_one(train_data, test_data, max_epochs = 1500 , step=-1e-05 , train_fun=train_rec , r_density=0.8 , i_density=0.8 , Nr=100, mesure_interval=10, rho=0.1)"
      ]
    },
    {
      "cell_type": "code",
      "execution_count": null,
      "metadata": {
        "colab": {
          "base_uri": "https://localhost:8080/",
          "height": 813
        },
        "id": "xBAFYURD3d30",
        "outputId": "d5c9d4dd-8f54-4f9b-e66a-c5f52f7b4b71"
      },
      "outputs": [],
      "source": [
        "eval_shallow_one(train_data, test_data, max_epochs = 200 , step=[-1e-05,-1e-05] , train_fun=train_both , r_density=0.8 , i_density=1 , Nr=100, mesure_interval=1, rho=0.9)"
      ]
    },
    {
      "cell_type": "code",
      "execution_count": null,
      "metadata": {
        "id": "QnmjRRL1DlUX"
      },
      "outputs": [],
      "source": []
    }
  ],
  "metadata": {
    "colab": {
      "collapsed_sections": [],
      "name": "MC e DSS shallow.ipynb",
      "provenance": []
    },
    "kernelspec": {
      "display_name": "Python 3.10.6",
      "language": "python",
      "name": "python3"
    },
    "language_info": {
      "codemirror_mode": {
        "name": "ipython",
        "version": 3
      },
      "file_extension": ".py",
      "mimetype": "text/x-python",
      "name": "python",
      "nbconvert_exporter": "python",
      "pygments_lexer": "ipython3",
      "version": "3.10.6"
    },
    "vscode": {
      "interpreter": {
        "hash": "bc93c98838970e2501022137642cf0d49080853d19222b3ff97ea24582302a33"
      }
    }
  },
  "nbformat": 4,
  "nbformat_minor": 0
}
